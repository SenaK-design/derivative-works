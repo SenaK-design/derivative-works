{
 "cells": [
  {
   "cell_type": "markdown",
   "metadata": {
    "id": "jdm1tr5igN6G"
   },
   "source": [
    "# Setup the environment"
   ]
  },
  {
   "cell_type": "code",
   "execution_count": null,
   "metadata": {
    "colab": {
     "base_uri": "https://localhost:8080/",
     "height": 310
    },
    "id": "Pe0Ao34mxFyk",
    "outputId": "e911feb9-1054-4d25-80b6-aeaf6a723759"
   },
   "outputs": [],
   "source": [
    "!pip install kornia==0.4.0 tqdm==4.45.0 sk-video==1.1.10"
   ]
  },
  {
   "cell_type": "code",
   "execution_count": null,
   "metadata": {
    "ExecuteTime": {
     "end_time": "2020-10-14T21:39:31.413013Z",
     "start_time": "2020-10-14T21:39:26.626076Z"
    },
    "colab": {
     "base_uri": "https://localhost:8080/",
     "height": 748
    },
    "id": "wMm2sfLKgWz5",
    "outputId": "6c8139ba-44f7-41aa-929e-36cc1a3fb24c"
   },
   "outputs": [],
   "source": [
    "!git clone https://github.com/tals/derivative-works\n",
    "!git clone https://github.com/jacobgil/dlib_facedetector_pytorch\n",
    "    \n",
    " # Used for BigGAN source image generation and there's still some bad dependencies on it\n",
    "!pip install pytorch_pretrained_biggan"
   ]
  },
  {
   "cell_type": "code",
   "execution_count": null,
   "metadata": {
    "id": "L2BAXRjyhQpa"
   },
   "outputs": [],
   "source": [
    "import sys\n",
    "import os\n",
    "sys.path.insert(0, os.path.join(os.getcwd(), \"derivative-works/research\"))\n",
    "sys.path.insert(0, os.path.join(os.getcwd(), \"dlib_facedetector_pytorch\"))"
   ]
  },
  {
   "cell_type": "code",
   "execution_count": null,
   "metadata": {
    "id": "7iEwy_9MgMIE",
    "scrolled": true
   },
   "outputs": [],
   "source": [
    "%matplotlib inline\n",
    "%load_ext autoreload\n",
    "%autoreload 2"
   ]
  },
  {
   "cell_type": "code",
   "execution_count": null,
   "metadata": {
    "ExecuteTime": {
     "end_time": "2020-10-14T21:41:50.866189Z",
     "start_time": "2020-10-14T21:41:48.709605Z"
    },
    "id": "zvrZDaXcgMIH",
    "scrolled": true
   },
   "outputs": [],
   "source": [
    "import os, sys, math, json, random\n",
    "import numpy as np\n",
    "import kornia\n",
    "import torch\n",
    "import torch.nn as nn\n",
    "import matplotlib.pyplot as plt\n",
    "from PIL import Image\n",
    "from torchvision import transforms\n",
    "import torch.nn.functional as F\n",
    "from tqdm.autonotebook import tqdm\n",
    "from pytorch_pretrained_biggan import BigGAN, convert_to_images\n",
    "from src.notebook_utils import imshow, imgrid, pltshow, draw_tensors\n",
    "from src.pytorch_utils import augment\n",
    "from src.palette import random_biggan, load_directory, load_images\n",
    "from src.collage import Collager\n",
    "from src.collage_save import CollageSaver"
   ]
  },
  {
   "cell_type": "code",
   "execution_count": null,
   "metadata": {
    "id": "CqWsrKbygMIJ",
    "scrolled": true
   },
   "outputs": [],
   "source": [
    "img_size = 512"
   ]
  },
  {
   "cell_type": "markdown",
   "metadata": {
    "id": "dAS6gIYQy6Ea"
   },
   "source": [
    "# Face Loss"
   ]
  },
  {
   "cell_type": "code",
   "execution_count": null,
   "metadata": {
    "id": "eS8VmilQy4qO"
   },
   "outputs": [],
   "source": [
    "import os, sys\n",
    "import dlib_torch_converter\n",
    "import torch\n",
    "import torch.nn as nn\n",
    "import torch.nn.functional as F\n",
    "from PIL import Image\n",
    "import torchvision.transforms as transforms\n",
    "from pathlib import Path\n",
    "\n",
    "MODEL_PATH = Path(dlib_torch_converter.__file__).parent / 'face.xml'\n",
    "assert MODEL_PATH.exists()\n",
    "\n",
    "class DlibFaceLoss:\n",
    "    def __init__(self, filter_index=1, target_image_path=None):\n",
    "        self.filter_index = filter_index\n",
    "        self.dlib_model = dlib_torch_converter.get_model(str(MODEL_PATH)).eval().cuda()\n",
    "        self.model = nn.Sequential(*[self.dlib_model._modules[i] \\\n",
    "                                   for i in list(self.dlib_model._modules.keys())[:-2]])\n",
    "        self.model.eval()\n",
    "        self.model.zero_grad()\n",
    "        self.target_activations = None\n",
    "        if target_image_path:\n",
    "            target_ten = transforms.ToTensor()(Image.open(target_image_path)).unsqueeze(0)\n",
    "            target_ten = F.interpolate(target_ten, size=(128, 128), mode='bilinear')\n",
    "            self.target_activations = self.model(target_ten.cuda()).detach()\n",
    "\n",
    "    def __call__(self, img_tensors):\n",
    "        # [0, 1] input range\n",
    "        self.model.zero_grad()\n",
    "        img_tensors = F.interpolate(img_tensors, size=(128, 128), mode='bilinear')\n",
    "\n",
    "        out = self.model(img_tensors)\n",
    "        size = out.size(2)\n",
    "        if self.target_activations is not None:\n",
    "            # loss = torch.dist(out[0, :5], self.target_activations[0, :5])\n",
    "            loss = torch.dist(out, self.target_activations)\n",
    "        else:\n",
    "            # Take the middle pixel in the image.\n",
    "            if self.filter_index == 'all':\n",
    "                loss = -out[:, :, size//2, size//2]\n",
    "            else:\n",
    "                loss = -out[:, self.filter_index, size//2, size//2]\n",
    "        return loss\n",
    "\n",
    "face_loss = DlibFaceLoss()"
   ]
  },
  {
   "cell_type": "markdown",
   "metadata": {
    "id": "n0njj-hZgMIN"
   },
   "source": [
    "# Mask generator"
   ]
  },
  {
   "cell_type": "code",
   "execution_count": null,
   "metadata": {
    "colab": {
     "base_uri": "https://localhost:8080/",
     "height": 82
    },
    "id": "pJ9qJcyogMIO",
    "outputId": "a1ef3f38-f026-4523-9dce-96fc5fe85fae",
    "scrolled": true
   },
   "outputs": [],
   "source": [
    "from src.gan import Generator\n",
    "mask_generator = Generator(img_size=128, latent_size=100, channels=1).cuda()\n",
    "!gdown \"https://drive.google.com/u/0/uc?id=1IhoB6lxbKxL66F0X99ntL-t3-XKnxDPZ&export=download\"\n",
    "\n",
    "model_path = 'deriv_works_dcgan_gen_128'\n",
    "mask_generator.load_state_dict(torch.load(model_path))\n",
    "mask_generator.eval()\n",
    "None"
   ]
  },
  {
   "cell_type": "code",
   "execution_count": null,
   "metadata": {
    "colab": {
     "base_uri": "https://localhost:8080/",
     "height": 63
    },
    "id": "abuOna2fgMIQ",
    "outputId": "d03d2329-2f61-493d-b074-fc3af35d59f3",
    "scrolled": true
   },
   "outputs": [],
   "source": [
    "masks = mask_generator(torch.randn(10, 100).cuda())\n",
    "pltshow(np.hstack(masks[:, 0].detach().cpu().numpy()))"
   ]
  },
  {
   "cell_type": "markdown",
   "metadata": {
    "id": "l3HZqSuxgMIU"
   },
   "source": [
    "# Make or load the palette"
   ]
  },
  {
   "cell_type": "code",
   "execution_count": null,
   "metadata": {
    "colab": {
     "base_uri": "https://localhost:8080/",
     "height": 82
    },
    "id": "uNkZt7YwgMIU",
    "outputId": "fc4946ee-b9ca-4de0-9484-e31057756680"
   },
   "outputs": [],
   "source": [
    "import subprocess\n",
    "def download_urls(urls):\n",
    "    p = subprocess.run(['wget', '-i', \"-\", \"-P\", \"dataset\"], input=\"\\n\".join(urls), universal_newlines=True)\n",
    "    return [f\"dataset/{x.split('/')[-1]}\" for x in urls]\n",
    "\n",
    "urls = [\n",
    "        \"https://artbreeder.b-cdn.net/imgs/afc622a41966e3482a17.jpeg\",\n",
    "        \"https://artbreeder.b-cdn.net/imgs/e8f11a059e51ce49f1fb.jpeg\",\n",
    "        \"https://artbreeder.b-cdn.net/imgs/f9c1c5f14783165a5536.jpeg\",\n",
    "        \"https://artbreeder.b-cdn.net/imgs/fb6d9b30088fb6a2aedfdbea.jpeg\",\n",
    "]\n",
    "dataset = download_urls(urls)\n",
    "dataset"
   ]
  },
  {
   "cell_type": "code",
   "execution_count": null,
   "metadata": {
    "colab": {
     "base_uri": "https://localhost:8080/",
     "height": 70
    },
    "id": "-5cpN5CJgMIW",
    "outputId": "043ef191-a885-47f6-c88b-856e0dfe88c8",
    "scrolled": true
   },
   "outputs": [],
   "source": [
    "USE_BIGGAN = False\n",
    "if USE_BIGGAN:\n",
    "    n_refs = 24*2\n",
    "    biggan = BigGAN.from_pretrained(f'biggan-deep-{img_size}').cuda()\n",
    "    palette = random_biggan(n_refs, img_size, biggan, seed=1, truncation=.4)\n",
    "else:\n",
    "    img_names = dataset\n",
    "    palette_imgs_large = load_images(img_names, 1024)\n",
    "    palette_imgs = F.interpolate(palette_imgs_large, size=(img_size, img_size), mode='bilinear')"
   ]
  },
  {
   "cell_type": "code",
   "execution_count": null,
   "metadata": {
    "id": "mWu3ABZfgMIY"
   },
   "outputs": [],
   "source": [
    "patch_per_img = 20 // palette_imgs.shape[0]"
   ]
  },
  {
   "cell_type": "code",
   "execution_count": null,
   "metadata": {
    "colab": {
     "base_uri": "https://localhost:8080/",
     "height": 435
    },
    "id": "IEpQ5QRmgMIa",
    "outputId": "a482e584-632b-49a4-9e39-8a769de1dd66",
    "scrolled": false
   },
   "outputs": [],
   "source": [
    "draw_tensors(palette_imgs)"
   ]
  },
  {
   "cell_type": "code",
   "execution_count": null,
   "metadata": {
    "id": "wHBb42cFgMIc"
   },
   "outputs": [],
   "source": [
    "collager = Collager(palette_imgs, mask_generator, img_size, patch_per_img)"
   ]
  },
  {
   "cell_type": "markdown",
   "metadata": {
    "id": "8ePJ9HWwgMIe"
   },
   "source": [
    "# View Random"
   ]
  },
  {
   "cell_type": "code",
   "execution_count": null,
   "metadata": {
    "colab": {
     "base_uri": "https://localhost:8080/",
     "height": 581
    },
    "id": "uDAVSiK4gMIe",
    "outputId": "d652c218-104b-4e49-c1ad-562488f844bc",
    "scrolled": false
   },
   "outputs": [],
   "source": [
    "with torch.no_grad():\n",
    "    imgs = [\n",
    "        collager(*collager.makeRandom(seed=i, trans_scale=.2))[0]\n",
    "        for i in range(2)\n",
    "    ] \n",
    "    draw_tensors(torch.stack(imgs).squeeze())"
   ]
  },
  {
   "cell_type": "markdown",
   "metadata": {
    "id": "kSik-2oigMIg"
   },
   "source": [
    "# Optimization"
   ]
  },
  {
   "cell_type": "code",
   "execution_count": null,
   "metadata": {
    "colab": {
     "base_uri": "https://localhost:8080/",
     "height": 1000,
     "referenced_widgets": [
      "7c9b01f24c1a45fb9b34c165fa738357",
      "d37e3f083f7449db8f73e271f5e86322",
      "84362c7f65794bceacbe505edb29d31e",
      "bf1a99e665f042219874cdb2d8b1d981",
      "302b1d7c1b1e400ea7e87828dd3387ff",
      "a03ffb797d9d40b189bf71aafa651721",
      "325114a6bdf24faaa4e7990d3e55ea87",
      "c77447ae65c646adabbf1accce65ec0d"
     ]
    },
    "id": "AYsHjFYbgMIg",
    "outputId": "2db524f2-462a-405b-b838-495da86e2395",
    "scrolled": true
   },
   "outputs": [],
   "source": [
    "n_steps=600\n",
    "seed=8\n",
    "lr=2e-2\n",
    "frames = []\n",
    "#save_every_step = False\n",
    "if seed is not None:\n",
    "    random.seed(seed)\n",
    "    np.random.seed(seed)\n",
    "    torch.manual_seed(seed)\n",
    "    torch.backends.cudnn.deterministic = True\n",
    "    \n",
    "collage_data = collager.makeRandom(seed=seed, trans_scale=.2)\n",
    "params = collage_data\n",
    "Z = collage_data[0]\n",
    "for x in collage_data:\n",
    "    x.requires_grad_(True)\n",
    "opt = torch.optim.Adam(params, lr=lr)\n",
    "scheduler = torch.optim.lr_scheduler.OneCycleLR(opt, max_lr=lr, total_steps=n_steps)\n",
    "pbar = tqdm(total=n_steps)\n",
    "loss_history = []\n",
    "\n",
    "for i in range(n_steps):\n",
    "    percent = i / n_steps\n",
    "    pbar.update()        \n",
    "    opt.zero_grad()\n",
    "    fl = torch.zeros(1)\n",
    "    norm_loss = .25 * Z.norm()\n",
    "    img, data = collager(*collage_data, return_data=False)\n",
    "    aug = augment(img, n=3)\n",
    "    fl = face_loss(((aug+1)*.5)).mean()\n",
    "    loss = fl + norm_loss - .01*img.mean()\n",
    "    loss_history.append(loss.detach().cpu().item())\n",
    "    loss.backward(retain_graph=True)\n",
    "    opt.step()\n",
    "    scheduler.step()\n",
    "    #if save_every_step:\n",
    "    #    data = export_collager(*collage_data, return_data=True)\n",
    "    #    saver.save(*data, final=True)\n",
    "    pbar.set_description(f\"fl: {fl.item():.3f}\")\n",
    "    frames.append(np.array(convert_to_images(img.detach().cpu())[0]))\n",
    "    if i % 50 == 0 and i > 0 or i == n_steps-1:\n",
    "        draw_tensors(img)"
   ]
  },
  {
   "cell_type": "code",
   "execution_count": null,
   "metadata": {
    "colab": {
     "base_uri": "https://localhost:8080/",
     "height": 265
    },
    "id": "laKogxHZgMIi",
    "outputId": "306fcefb-3be6-4424-9ca7-ccbb24f89312"
   },
   "outputs": [],
   "source": [
    "opt_img, opt_collage_data, opt_history = \\\n",
    "    img.detach(), tuple(x.detach() for x in collage_data), loss_history\n",
    "_= plt.plot(opt_history)"
   ]
  },
  {
   "cell_type": "markdown",
   "metadata": {
    "id": "r66Nglh1gMIk"
   },
   "source": [
    "# Export video, highres image and masks"
   ]
  },
  {
   "cell_type": "code",
   "execution_count": null,
   "metadata": {
    "id": "HvyOTtqcgMIl",
    "outputId": "4cbde9ac-00f5-4b7b-bc69-93737e21b334"
   },
   "outputs": [],
   "source": [
    "saver = CollageSaver()\n",
    "saver.save_palette(palette_imgs)\n",
    "print(saver.path)\n",
    "saver.save_video(frames)\n",
    "\n",
    "# Regenerate at 2x scale.\n",
    "export_collager = Collager(palette_imgs_large, mask_generator, 1024, patch_per_img)\n",
    "with torch.no_grad():\n",
    "    hires, data = export_collager(*collage_data, return_data=True) \n",
    "    saver.save(hires, data, final=True)\n",
    "\n",
    "if img_names:\n",
    "    with open(saver.path / 'image_names.txt', 'w') as outfile:\n",
    "        json.dump(img_names, outfile)"
   ]
  },
  {
   "cell_type": "code",
   "execution_count": null,
   "metadata": {},
   "outputs": [],
   "source": [
    "# View video\n",
    "from IPython.display import HTML\n",
    "from base64 import b64encode\n",
    "mp4 = open(saver.path / (saver.key+'.mp4'),'rb').read()\n",
    "data_url = \"data:video/mp4;base64,\" + b64encode(mp4).decode()\n",
    "HTML(\"\"\"<video width=400 controls><source src=\"%s\" type=\"video/mp4\"></video>\"\"\" % data_url)"
   ]
  },
  {
   "cell_type": "code",
   "execution_count": null,
   "metadata": {
    "id": "tJ3s01T6gMIm"
   },
   "outputs": [],
   "source": []
  }
 ],
 "metadata": {
  "accelerator": "GPU",
  "colab": {
   "collapsed_sections": [],
   "name": "collage_maker.ipynb",
   "provenance": []
  },
  "kernelspec": {
   "display_name": "Python 3",
   "language": "python",
   "name": "python3"
  },
  "language_info": {
   "codemirror_mode": {
    "name": "ipython",
    "version": 3
   },
   "file_extension": ".py",
   "mimetype": "text/x-python",
   "name": "python",
   "nbconvert_exporter": "python",
   "pygments_lexer": "ipython3",
   "version": "3.7.7"
  },
  "toc": {
   "nav_menu": {},
   "number_sections": true,
   "sideBar": true,
   "skip_h1_title": false,
   "toc_cell": false,
   "toc_position": {},
   "toc_section_display": true,
   "toc_window_display": false
  },
  "varInspector": {
   "cols": {
    "lenName": 16,
    "lenType": 16,
    "lenVar": 40
   },
   "kernels_config": {
    "python": {
     "delete_cmd_postfix": "",
     "delete_cmd_prefix": "del ",
     "library": "var_list.py",
     "varRefreshCmd": "print(var_dic_list())"
    },
    "r": {
     "delete_cmd_postfix": ") ",
     "delete_cmd_prefix": "rm(",
     "library": "var_list.r",
     "varRefreshCmd": "cat(var_dic_list()) "
    }
   },
   "types_to_exclude": [
    "module",
    "function",
    "builtin_function_or_method",
    "instance",
    "_Feature"
   ],
   "window_display": false
  },
  "widgets": {
   "application/vnd.jupyter.widget-state+json": {
    "302b1d7c1b1e400ea7e87828dd3387ff": {
     "model_module": "@jupyter-widgets/controls",
     "model_name": "ProgressStyleModel",
     "state": {
      "_model_module": "@jupyter-widgets/controls",
      "_model_module_version": "1.5.0",
      "_model_name": "ProgressStyleModel",
      "_view_count": null,
      "_view_module": "@jupyter-widgets/base",
      "_view_module_version": "1.2.0",
      "_view_name": "StyleView",
      "bar_color": null,
      "description_width": "initial"
     }
    },
    "325114a6bdf24faaa4e7990d3e55ea87": {
     "model_module": "@jupyter-widgets/controls",
     "model_name": "DescriptionStyleModel",
     "state": {
      "_model_module": "@jupyter-widgets/controls",
      "_model_module_version": "1.5.0",
      "_model_name": "DescriptionStyleModel",
      "_view_count": null,
      "_view_module": "@jupyter-widgets/base",
      "_view_module_version": "1.2.0",
      "_view_name": "StyleView",
      "description_width": ""
     }
    },
    "7c9b01f24c1a45fb9b34c165fa738357": {
     "model_module": "@jupyter-widgets/controls",
     "model_name": "HBoxModel",
     "state": {
      "_dom_classes": [],
      "_model_module": "@jupyter-widgets/controls",
      "_model_module_version": "1.5.0",
      "_model_name": "HBoxModel",
      "_view_count": null,
      "_view_module": "@jupyter-widgets/controls",
      "_view_module_version": "1.5.0",
      "_view_name": "HBoxView",
      "box_style": "",
      "children": [
       "IPY_MODEL_84362c7f65794bceacbe505edb29d31e",
       "IPY_MODEL_bf1a99e665f042219874cdb2d8b1d981"
      ],
      "layout": "IPY_MODEL_d37e3f083f7449db8f73e271f5e86322"
     }
    },
    "84362c7f65794bceacbe505edb29d31e": {
     "model_module": "@jupyter-widgets/controls",
     "model_name": "FloatProgressModel",
     "state": {
      "_dom_classes": [],
      "_model_module": "@jupyter-widgets/controls",
      "_model_module_version": "1.5.0",
      "_model_name": "FloatProgressModel",
      "_view_count": null,
      "_view_module": "@jupyter-widgets/controls",
      "_view_module_version": "1.5.0",
      "_view_name": "ProgressView",
      "bar_style": "",
      "description": "fl: -15.883: 100%",
      "description_tooltip": null,
      "layout": "IPY_MODEL_a03ffb797d9d40b189bf71aafa651721",
      "max": 600,
      "min": 0,
      "orientation": "horizontal",
      "style": "IPY_MODEL_302b1d7c1b1e400ea7e87828dd3387ff",
      "value": 600
     }
    },
    "a03ffb797d9d40b189bf71aafa651721": {
     "model_module": "@jupyter-widgets/base",
     "model_name": "LayoutModel",
     "state": {
      "_model_module": "@jupyter-widgets/base",
      "_model_module_version": "1.2.0",
      "_model_name": "LayoutModel",
      "_view_count": null,
      "_view_module": "@jupyter-widgets/base",
      "_view_module_version": "1.2.0",
      "_view_name": "LayoutView",
      "align_content": null,
      "align_items": null,
      "align_self": null,
      "border": null,
      "bottom": null,
      "display": null,
      "flex": null,
      "flex_flow": null,
      "grid_area": null,
      "grid_auto_columns": null,
      "grid_auto_flow": null,
      "grid_auto_rows": null,
      "grid_column": null,
      "grid_gap": null,
      "grid_row": null,
      "grid_template_areas": null,
      "grid_template_columns": null,
      "grid_template_rows": null,
      "height": null,
      "justify_content": null,
      "justify_items": null,
      "left": null,
      "margin": null,
      "max_height": null,
      "max_width": null,
      "min_height": null,
      "min_width": null,
      "object_fit": null,
      "object_position": null,
      "order": null,
      "overflow": null,
      "overflow_x": null,
      "overflow_y": null,
      "padding": null,
      "right": null,
      "top": null,
      "visibility": null,
      "width": null
     }
    },
    "bf1a99e665f042219874cdb2d8b1d981": {
     "model_module": "@jupyter-widgets/controls",
     "model_name": "HTMLModel",
     "state": {
      "_dom_classes": [],
      "_model_module": "@jupyter-widgets/controls",
      "_model_module_version": "1.5.0",
      "_model_name": "HTMLModel",
      "_view_count": null,
      "_view_module": "@jupyter-widgets/controls",
      "_view_module_version": "1.5.0",
      "_view_name": "HTMLView",
      "description": "",
      "description_tooltip": null,
      "layout": "IPY_MODEL_c77447ae65c646adabbf1accce65ec0d",
      "placeholder": "​",
      "style": "IPY_MODEL_325114a6bdf24faaa4e7990d3e55ea87",
      "value": " 600/600 [03:03&lt;00:00,  3.29it/s]"
     }
    },
    "c77447ae65c646adabbf1accce65ec0d": {
     "model_module": "@jupyter-widgets/base",
     "model_name": "LayoutModel",
     "state": {
      "_model_module": "@jupyter-widgets/base",
      "_model_module_version": "1.2.0",
      "_model_name": "LayoutModel",
      "_view_count": null,
      "_view_module": "@jupyter-widgets/base",
      "_view_module_version": "1.2.0",
      "_view_name": "LayoutView",
      "align_content": null,
      "align_items": null,
      "align_self": null,
      "border": null,
      "bottom": null,
      "display": null,
      "flex": null,
      "flex_flow": null,
      "grid_area": null,
      "grid_auto_columns": null,
      "grid_auto_flow": null,
      "grid_auto_rows": null,
      "grid_column": null,
      "grid_gap": null,
      "grid_row": null,
      "grid_template_areas": null,
      "grid_template_columns": null,
      "grid_template_rows": null,
      "height": null,
      "justify_content": null,
      "justify_items": null,
      "left": null,
      "margin": null,
      "max_height": null,
      "max_width": null,
      "min_height": null,
      "min_width": null,
      "object_fit": null,
      "object_position": null,
      "order": null,
      "overflow": null,
      "overflow_x": null,
      "overflow_y": null,
      "padding": null,
      "right": null,
      "top": null,
      "visibility": null,
      "width": null
     }
    },
    "d37e3f083f7449db8f73e271f5e86322": {
     "model_module": "@jupyter-widgets/base",
     "model_name": "LayoutModel",
     "state": {
      "_model_module": "@jupyter-widgets/base",
      "_model_module_version": "1.2.0",
      "_model_name": "LayoutModel",
      "_view_count": null,
      "_view_module": "@jupyter-widgets/base",
      "_view_module_version": "1.2.0",
      "_view_name": "LayoutView",
      "align_content": null,
      "align_items": null,
      "align_self": null,
      "border": null,
      "bottom": null,
      "display": null,
      "flex": null,
      "flex_flow": null,
      "grid_area": null,
      "grid_auto_columns": null,
      "grid_auto_flow": null,
      "grid_auto_rows": null,
      "grid_column": null,
      "grid_gap": null,
      "grid_row": null,
      "grid_template_areas": null,
      "grid_template_columns": null,
      "grid_template_rows": null,
      "height": null,
      "justify_content": null,
      "justify_items": null,
      "left": null,
      "margin": null,
      "max_height": null,
      "max_width": null,
      "min_height": null,
      "min_width": null,
      "object_fit": null,
      "object_position": null,
      "order": null,
      "overflow": null,
      "overflow_x": null,
      "overflow_y": null,
      "padding": null,
      "right": null,
      "top": null,
      "visibility": null,
      "width": null
     }
    }
   }
  }
 },
 "nbformat": 4,
 "nbformat_minor": 1
}
