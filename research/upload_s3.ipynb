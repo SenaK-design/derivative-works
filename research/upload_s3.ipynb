{
 "cells": [
  {
   "cell_type": "code",
   "execution_count": 11,
   "metadata": {},
   "outputs": [],
   "source": [
    "import os"
   ]
  },
  {
   "cell_type": "code",
   "execution_count": 12,
   "metadata": {},
   "outputs": [],
   "source": [
    "good = [\n",
    "    [\n",
    "        'batch-1',\n",
    "        [ '2020-10-06-08-22-dzdsdu', '2020-10-06-05-04-hcadfm', '2020-10-06-07-56-uvdsrj'],\n",
    "    ],\n",
    "    [\n",
    "        'batch-2',\n",
    "        ['2020-10-06-21-10-zygkme', '2020-10-06-20-25-exwcgm', '2020-10-06-20-15-dugvqd',\n",
    "         '2020-10-06-19-29-oxxoix', '2020-10-06-19-26-wmlfjf', '2020-10-06-19-19-wwswcs',\n",
    "         '2020-10-06-19-08-hlflgw', '2020-10-06-18-33-hinvyo', '2020-10-06-18-13-nhchsg',\n",
    "         '2020-10-06-17-24-blhrnd']\n",
    "    ],\n",
    "    [\n",
    "        'batch-3',\n",
    "        ['2020-10-08-12-03-dqfjsy', '2020-10-08-13-45-swkatk',\n",
    "         '2020-10-08-06-10-cfaysi', '2020-10-08-02-23-qewwai', '2020-10-08-07-22-zjstpy',\n",
    "         '2020-10-08-13-14-xjdsbx', '2020-10-08-05-22-aufwvm',\n",
    "         '2020-10-08-04-47-putftz', '2020-10-08-06-42-idzkjw', '2020-10-08-02-20-rofyii', \n",
    "         '2020-10-08-11-08-yaeiyp', '2020-10-08-12-15-jancmb', '2020-10-08-04-04-kqflhs',\n",
    "         '2020-10-08-04-14-ntmrkr', '2020-10-08-00-53-rvhbhj', '2020-10-08-15-22-irpgmi',\n",
    "         '2020-10-08-13-29-spthzg', '2020-10-08-07-11-tzvxyl', '2020-10-08-10-11-yzplzk',\n",
    "         '2020-10-08-15-48-bgfdgh', '2020-10-08-14-56-mwxfvg', '2020-10-08-10-36-plldjc',\n",
    "         '2020-10-08-09-41-mdiyof', '2020-10-08-14-21-sqdmbi', '2020-10-08-02-49-ufinbn',\n",
    "         '2020-10-08-12-44-xihhcm', '2020-10-08-12-26-tpezky', '2020-10-08-01-54-rhxgkt',\n",
    "         '2020-10-08-09-34-bemcbu', '2020-10-08-04-10-pjngma', \n",
    "         '2020-10-08-14-59-jfmdyu', '2020-10-08-05-27-vaqlcs', '2020-10-08-01-56-wwuycr',\n",
    "         '2020-10-08-01-52-axeqoz', '2020-10-08-08-13-qaxbta', '2020-10-08-01-36-najvrz',\n",
    "         '2020-10-08-15-02-mrmxzr', '2020-10-08-03-31-zxexrp', '2020-10-08-03-47-kugzvx']\n",
    "    ]\n",
    "]"
   ]
  },
  {
   "cell_type": "code",
   "execution_count": null,
   "metadata": {
    "scrolled": true
   },
   "outputs": [],
   "source": [
    "for group_dir, dirnames in good:\n",
    "    for dirname in dirnames:\n",
    "        \n",
    "        key = dirname.split('-')[-1]\n",
    "        #if key != 'hcadfm':\n",
    "        #    continue\n",
    "        print(dirname)\n",
    "        path = f'./results/{group_dir}/{dirname}'\n",
    "        \n",
    "        fast_vid = f'{path}/{key}_fast.mp4'\n",
    "        if not os.path.exists(fast_vid):\n",
    "            !ffmpeg -y -i {path}/{key}.mp4 -filter:v \"setpts=0.16666666666*PTS\" {fast_vid}\n",
    "        \n",
    "        fast_small_vid = f'{path}/{key}_fast_small.mp4'\n",
    "        if not os.path.exists(fast_small_vid):\n",
    "            !ffmpeg -y -i {path}/{key}.mp4 -filter:v \"setpts=PTS/6,scale=256:-1\" {fast_small_vid}\n",
    "                \n",
    "        small_img = f'{path}/{key}_small.jpg'\n",
    "        if not os.path.exists(small_img):\n",
    "            !convert {path}/{key}.jpg -resize 350x350 {small_img}\n",
    "        \n",
    "        !ffmpeg -y -i {path}/{key}.mp4 -frames:v 1 -vf scale=350:-2 -q:v 3  {path}/{key}_frame0.jpg\n",
    "        \n",
    "        s3_path = f's3://derivative-works/results/{group_dir}/{dirname}'\n",
    "        !aws s3 sync ./results/{group_dir}/{dirname} {s3_path} --acl public-read --quiet\n",
    "        print('-'*80)\n",
    "#         break"
   ]
  },
  {
   "cell_type": "markdown",
   "metadata": {},
   "source": [
    "# Create data json"
   ]
  },
  {
   "cell_type": "code",
   "execution_count": null,
   "metadata": {},
   "outputs": [],
   "source": [
    "import json\n",
    "data = []\n",
    "for group_dir, dirnames in good:\n",
    "    for dirname in dirnames:\n",
    "        key = dirname.split('-')[-1]\n",
    "        path = f'./results/{group_dir}/{dirname}'\n",
    "        with open(path+'/image_names.txt', 'r') as f:\n",
    "            image_names = json.load(f)\n",
    "        data.append({\n",
    "            'key': key,\n",
    "            'path': f'{group_dir}/{dirname}',\n",
    "            'palette_keys': [s.split('/')[-1].split('_hires')[0] for s in image_names]\n",
    "        })\n"
   ]
  },
  {
   "cell_type": "code",
   "execution_count": null,
   "metadata": {
    "scrolled": false
   },
   "outputs": [],
   "source": [
    "data"
   ]
  },
  {
   "cell_type": "code",
   "execution_count": null,
   "metadata": {},
   "outputs": [],
   "source": []
  }
 ],
 "metadata": {
  "kernelspec": {
   "display_name": "Python 3",
   "language": "python",
   "name": "python3"
  },
  "language_info": {
   "codemirror_mode": {
    "name": "ipython",
    "version": 3
   },
   "file_extension": ".py",
   "mimetype": "text/x-python",
   "name": "python",
   "nbconvert_exporter": "python",
   "pygments_lexer": "ipython3",
   "version": "3.6.9"
  },
  "toc": {
   "base_numbering": 1,
   "nav_menu": {},
   "number_sections": true,
   "sideBar": true,
   "skip_h1_title": false,
   "title_cell": "Table of Contents",
   "title_sidebar": "Contents",
   "toc_cell": false,
   "toc_position": {},
   "toc_section_display": true,
   "toc_window_display": false
  }
 },
 "nbformat": 4,
 "nbformat_minor": 2
}
